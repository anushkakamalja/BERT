{
  "nbformat": 4,
  "nbformat_minor": 0,
  "metadata": {
    "colab": {
      "provenance": []
    },
    "kernelspec": {
      "name": "python3",
      "display_name": "Python 3"
    },
    "language_info": {
      "name": "python"
    }
  },
  "cells": [
    {
      "cell_type": "code",
      "source": [
        "!pip install tensorflow_text"
      ],
      "metadata": {
        "colab": {
          "base_uri": "https://localhost:8080/",
          "height": 1000
        },
        "id": "1D_APBEzGD5L",
        "outputId": "ca982db0-b756-4592-b66b-0ac1544e1b01"
      },
      "execution_count": null,
      "outputs": [
        {
          "output_type": "stream",
          "name": "stdout",
          "text": [
            "Collecting tensorflow_text\n",
            "  Downloading tensorflow_text-2.16.1-cp310-cp310-manylinux_2_17_x86_64.manylinux2014_x86_64.whl (5.2 MB)\n",
            "\u001b[2K     \u001b[90m━━━━━━━━━━━━━━━━━━━━━━━━━━━━━━━━━━━━━━━━\u001b[0m \u001b[32m5.2/5.2 MB\u001b[0m \u001b[31m16.5 MB/s\u001b[0m eta \u001b[36m0:00:00\u001b[0m\n",
            "\u001b[?25hCollecting tensorflow<2.17,>=2.16.1 (from tensorflow_text)\n",
            "  Downloading tensorflow-2.16.1-cp310-cp310-manylinux_2_17_x86_64.manylinux2014_x86_64.whl (589.8 MB)\n",
            "\u001b[2K     \u001b[90m━━━━━━━━━━━━━━━━━━━━━━━━━━━━━━━━━━━━━━━━\u001b[0m \u001b[32m589.8/589.8 MB\u001b[0m \u001b[31m2.3 MB/s\u001b[0m eta \u001b[36m0:00:00\u001b[0m\n",
            "\u001b[?25hRequirement already satisfied: absl-py>=1.0.0 in /usr/local/lib/python3.10/dist-packages (from tensorflow<2.17,>=2.16.1->tensorflow_text) (1.4.0)\n",
            "Requirement already satisfied: astunparse>=1.6.0 in /usr/local/lib/python3.10/dist-packages (from tensorflow<2.17,>=2.16.1->tensorflow_text) (1.6.3)\n",
            "Requirement already satisfied: flatbuffers>=23.5.26 in /usr/local/lib/python3.10/dist-packages (from tensorflow<2.17,>=2.16.1->tensorflow_text) (24.3.25)\n",
            "Requirement already satisfied: gast!=0.5.0,!=0.5.1,!=0.5.2,>=0.2.1 in /usr/local/lib/python3.10/dist-packages (from tensorflow<2.17,>=2.16.1->tensorflow_text) (0.5.4)\n",
            "Requirement already satisfied: google-pasta>=0.1.1 in /usr/local/lib/python3.10/dist-packages (from tensorflow<2.17,>=2.16.1->tensorflow_text) (0.2.0)\n",
            "Collecting h5py>=3.10.0 (from tensorflow<2.17,>=2.16.1->tensorflow_text)\n",
            "  Downloading h5py-3.11.0-cp310-cp310-manylinux_2_17_x86_64.manylinux2014_x86_64.whl (5.3 MB)\n",
            "\u001b[2K     \u001b[90m━━━━━━━━━━━━━━━━━━━━━━━━━━━━━━━━━━━━━━━━\u001b[0m \u001b[32m5.3/5.3 MB\u001b[0m \u001b[31m91.2 MB/s\u001b[0m eta \u001b[36m0:00:00\u001b[0m\n",
            "\u001b[?25hRequirement already satisfied: libclang>=13.0.0 in /usr/local/lib/python3.10/dist-packages (from tensorflow<2.17,>=2.16.1->tensorflow_text) (18.1.1)\n",
            "Collecting ml-dtypes~=0.3.1 (from tensorflow<2.17,>=2.16.1->tensorflow_text)\n",
            "  Downloading ml_dtypes-0.3.2-cp310-cp310-manylinux_2_17_x86_64.manylinux2014_x86_64.whl (2.2 MB)\n",
            "\u001b[2K     \u001b[90m━━━━━━━━━━━━━━━━━━━━━━━━━━━━━━━━━━━━━━━━\u001b[0m \u001b[32m2.2/2.2 MB\u001b[0m \u001b[31m91.8 MB/s\u001b[0m eta \u001b[36m0:00:00\u001b[0m\n",
            "\u001b[?25hRequirement already satisfied: opt-einsum>=2.3.2 in /usr/local/lib/python3.10/dist-packages (from tensorflow<2.17,>=2.16.1->tensorflow_text) (3.3.0)\n",
            "Requirement already satisfied: packaging in /usr/local/lib/python3.10/dist-packages (from tensorflow<2.17,>=2.16.1->tensorflow_text) (24.0)\n",
            "Requirement already satisfied: protobuf!=4.21.0,!=4.21.1,!=4.21.2,!=4.21.3,!=4.21.4,!=4.21.5,<5.0.0dev,>=3.20.3 in /usr/local/lib/python3.10/dist-packages (from tensorflow<2.17,>=2.16.1->tensorflow_text) (3.20.3)\n",
            "Requirement already satisfied: requests<3,>=2.21.0 in /usr/local/lib/python3.10/dist-packages (from tensorflow<2.17,>=2.16.1->tensorflow_text) (2.31.0)\n",
            "Requirement already satisfied: setuptools in /usr/local/lib/python3.10/dist-packages (from tensorflow<2.17,>=2.16.1->tensorflow_text) (67.7.2)\n",
            "Requirement already satisfied: six>=1.12.0 in /usr/local/lib/python3.10/dist-packages (from tensorflow<2.17,>=2.16.1->tensorflow_text) (1.16.0)\n",
            "Requirement already satisfied: termcolor>=1.1.0 in /usr/local/lib/python3.10/dist-packages (from tensorflow<2.17,>=2.16.1->tensorflow_text) (2.4.0)\n",
            "Requirement already satisfied: typing-extensions>=3.6.6 in /usr/local/lib/python3.10/dist-packages (from tensorflow<2.17,>=2.16.1->tensorflow_text) (4.11.0)\n",
            "Requirement already satisfied: wrapt>=1.11.0 in /usr/local/lib/python3.10/dist-packages (from tensorflow<2.17,>=2.16.1->tensorflow_text) (1.14.1)\n",
            "Requirement already satisfied: grpcio<2.0,>=1.24.3 in /usr/local/lib/python3.10/dist-packages (from tensorflow<2.17,>=2.16.1->tensorflow_text) (1.63.0)\n",
            "Collecting tensorboard<2.17,>=2.16 (from tensorflow<2.17,>=2.16.1->tensorflow_text)\n",
            "  Downloading tensorboard-2.16.2-py3-none-any.whl (5.5 MB)\n",
            "\u001b[2K     \u001b[90m━━━━━━━━━━━━━━━━━━━━━━━━━━━━━━━━━━━━━━━━\u001b[0m \u001b[32m5.5/5.5 MB\u001b[0m \u001b[31m94.9 MB/s\u001b[0m eta \u001b[36m0:00:00\u001b[0m\n",
            "\u001b[?25hCollecting keras>=3.0.0 (from tensorflow<2.17,>=2.16.1->tensorflow_text)\n",
            "  Downloading keras-3.3.3-py3-none-any.whl (1.1 MB)\n",
            "\u001b[2K     \u001b[90m━━━━━━━━━━━━━━━━━━━━━━━━━━━━━━━━━━━━━━━━\u001b[0m \u001b[32m1.1/1.1 MB\u001b[0m \u001b[31m68.4 MB/s\u001b[0m eta \u001b[36m0:00:00\u001b[0m\n",
            "\u001b[?25hRequirement already satisfied: tensorflow-io-gcs-filesystem>=0.23.1 in /usr/local/lib/python3.10/dist-packages (from tensorflow<2.17,>=2.16.1->tensorflow_text) (0.37.0)\n",
            "Requirement already satisfied: numpy<2.0.0,>=1.23.5 in /usr/local/lib/python3.10/dist-packages (from tensorflow<2.17,>=2.16.1->tensorflow_text) (1.25.2)\n",
            "Requirement already satisfied: wheel<1.0,>=0.23.0 in /usr/local/lib/python3.10/dist-packages (from astunparse>=1.6.0->tensorflow<2.17,>=2.16.1->tensorflow_text) (0.43.0)\n",
            "Requirement already satisfied: rich in /usr/local/lib/python3.10/dist-packages (from keras>=3.0.0->tensorflow<2.17,>=2.16.1->tensorflow_text) (13.7.1)\n",
            "Collecting namex (from keras>=3.0.0->tensorflow<2.17,>=2.16.1->tensorflow_text)\n",
            "  Downloading namex-0.0.8-py3-none-any.whl (5.8 kB)\n",
            "Collecting optree (from keras>=3.0.0->tensorflow<2.17,>=2.16.1->tensorflow_text)\n",
            "  Downloading optree-0.11.0-cp310-cp310-manylinux_2_17_x86_64.manylinux2014_x86_64.whl (311 kB)\n",
            "\u001b[2K     \u001b[90m━━━━━━━━━━━━━━━━━━━━━━━━━━━━━━━━━━━━━━━━\u001b[0m \u001b[32m311.2/311.2 kB\u001b[0m \u001b[31m36.2 MB/s\u001b[0m eta \u001b[36m0:00:00\u001b[0m\n",
            "\u001b[?25hRequirement already satisfied: charset-normalizer<4,>=2 in /usr/local/lib/python3.10/dist-packages (from requests<3,>=2.21.0->tensorflow<2.17,>=2.16.1->tensorflow_text) (3.3.2)\n",
            "Requirement already satisfied: idna<4,>=2.5 in /usr/local/lib/python3.10/dist-packages (from requests<3,>=2.21.0->tensorflow<2.17,>=2.16.1->tensorflow_text) (3.7)\n",
            "Requirement already satisfied: urllib3<3,>=1.21.1 in /usr/local/lib/python3.10/dist-packages (from requests<3,>=2.21.0->tensorflow<2.17,>=2.16.1->tensorflow_text) (2.0.7)\n",
            "Requirement already satisfied: certifi>=2017.4.17 in /usr/local/lib/python3.10/dist-packages (from requests<3,>=2.21.0->tensorflow<2.17,>=2.16.1->tensorflow_text) (2024.2.2)\n",
            "Requirement already satisfied: markdown>=2.6.8 in /usr/local/lib/python3.10/dist-packages (from tensorboard<2.17,>=2.16->tensorflow<2.17,>=2.16.1->tensorflow_text) (3.6)\n",
            "Requirement already satisfied: tensorboard-data-server<0.8.0,>=0.7.0 in /usr/local/lib/python3.10/dist-packages (from tensorboard<2.17,>=2.16->tensorflow<2.17,>=2.16.1->tensorflow_text) (0.7.2)\n",
            "Requirement already satisfied: werkzeug>=1.0.1 in /usr/local/lib/python3.10/dist-packages (from tensorboard<2.17,>=2.16->tensorflow<2.17,>=2.16.1->tensorflow_text) (3.0.3)\n",
            "Requirement already satisfied: MarkupSafe>=2.1.1 in /usr/local/lib/python3.10/dist-packages (from werkzeug>=1.0.1->tensorboard<2.17,>=2.16->tensorflow<2.17,>=2.16.1->tensorflow_text) (2.1.5)\n",
            "Requirement already satisfied: markdown-it-py>=2.2.0 in /usr/local/lib/python3.10/dist-packages (from rich->keras>=3.0.0->tensorflow<2.17,>=2.16.1->tensorflow_text) (3.0.0)\n",
            "Requirement already satisfied: pygments<3.0.0,>=2.13.0 in /usr/local/lib/python3.10/dist-packages (from rich->keras>=3.0.0->tensorflow<2.17,>=2.16.1->tensorflow_text) (2.16.1)\n",
            "Requirement already satisfied: mdurl~=0.1 in /usr/local/lib/python3.10/dist-packages (from markdown-it-py>=2.2.0->rich->keras>=3.0.0->tensorflow<2.17,>=2.16.1->tensorflow_text) (0.1.2)\n",
            "Installing collected packages: namex, optree, ml-dtypes, h5py, tensorboard, keras, tensorflow, tensorflow_text\n",
            "  Attempting uninstall: ml-dtypes\n",
            "    Found existing installation: ml-dtypes 0.2.0\n",
            "    Uninstalling ml-dtypes-0.2.0:\n",
            "      Successfully uninstalled ml-dtypes-0.2.0\n",
            "  Attempting uninstall: h5py\n",
            "    Found existing installation: h5py 3.9.0\n",
            "    Uninstalling h5py-3.9.0:\n",
            "      Successfully uninstalled h5py-3.9.0\n",
            "  Attempting uninstall: tensorboard\n",
            "    Found existing installation: tensorboard 2.15.2\n",
            "    Uninstalling tensorboard-2.15.2:\n",
            "      Successfully uninstalled tensorboard-2.15.2\n",
            "  Attempting uninstall: keras\n",
            "    Found existing installation: keras 2.15.0\n",
            "    Uninstalling keras-2.15.0:\n",
            "      Successfully uninstalled keras-2.15.0\n",
            "  Attempting uninstall: tensorflow\n",
            "    Found existing installation: tensorflow 2.15.0\n",
            "    Uninstalling tensorflow-2.15.0:\n",
            "      Successfully uninstalled tensorflow-2.15.0\n",
            "\u001b[31mERROR: pip's dependency resolver does not currently take into account all the packages that are installed. This behaviour is the source of the following dependency conflicts.\n",
            "tf-keras 2.15.1 requires tensorflow<2.16,>=2.15, but you have tensorflow 2.16.1 which is incompatible.\u001b[0m\u001b[31m\n",
            "\u001b[0mSuccessfully installed h5py-3.11.0 keras-3.3.3 ml-dtypes-0.3.2 namex-0.0.8 optree-0.11.0 tensorboard-2.16.2 tensorflow-2.16.1 tensorflow_text-2.16.1\n"
          ]
        },
        {
          "output_type": "display_data",
          "data": {
            "application/vnd.colab-display-data+json": {
              "pip_warning": {
                "packages": [
                  "h5py",
                  "keras",
                  "ml_dtypes",
                  "tensorboard",
                  "tensorflow"
                ]
              },
              "id": "32226947be3147ee831503b18b39cb36"
            }
          },
          "metadata": {}
        }
      ]
    },
    {
      "cell_type": "code",
      "source": [
        "!pip install --upgrade tensorflow-hub tensorflow-text"
      ],
      "metadata": {
        "colab": {
          "base_uri": "https://localhost:8080/",
          "height": 1000
        },
        "id": "QOazMpdcGnLw",
        "outputId": "4c75a872-fe13-460f-cb09-6db430207de9"
      },
      "execution_count": 2,
      "outputs": [
        {
          "output_type": "stream",
          "name": "stdout",
          "text": [
            "Requirement already satisfied: tensorflow-hub in /usr/local/lib/python3.10/dist-packages (0.16.1)\n",
            "Collecting tensorflow-text\n",
            "  Downloading tensorflow_text-2.16.1-cp310-cp310-manylinux_2_17_x86_64.manylinux2014_x86_64.whl (5.2 MB)\n",
            "\u001b[2K     \u001b[90m━━━━━━━━━━━━━━━━━━━━━━━━━━━━━━━━━━━━━━━━\u001b[0m \u001b[32m5.2/5.2 MB\u001b[0m \u001b[31m12.4 MB/s\u001b[0m eta \u001b[36m0:00:00\u001b[0m\n",
            "\u001b[?25hRequirement already satisfied: numpy>=1.12.0 in /usr/local/lib/python3.10/dist-packages (from tensorflow-hub) (1.25.2)\n",
            "Requirement already satisfied: protobuf>=3.19.6 in /usr/local/lib/python3.10/dist-packages (from tensorflow-hub) (3.20.3)\n",
            "Requirement already satisfied: tf-keras>=2.14.1 in /usr/local/lib/python3.10/dist-packages (from tensorflow-hub) (2.15.1)\n",
            "Collecting tensorflow<2.17,>=2.16.1 (from tensorflow-text)\n",
            "  Downloading tensorflow-2.16.1-cp310-cp310-manylinux_2_17_x86_64.manylinux2014_x86_64.whl (589.8 MB)\n",
            "\u001b[2K     \u001b[90m━━━━━━━━━━━━━━━━━━━━━━━━━━━━━━━━━━━━━━━━\u001b[0m \u001b[32m589.8/589.8 MB\u001b[0m \u001b[31m2.3 MB/s\u001b[0m eta \u001b[36m0:00:00\u001b[0m\n",
            "\u001b[?25hRequirement already satisfied: absl-py>=1.0.0 in /usr/local/lib/python3.10/dist-packages (from tensorflow<2.17,>=2.16.1->tensorflow-text) (1.4.0)\n",
            "Requirement already satisfied: astunparse>=1.6.0 in /usr/local/lib/python3.10/dist-packages (from tensorflow<2.17,>=2.16.1->tensorflow-text) (1.6.3)\n",
            "Requirement already satisfied: flatbuffers>=23.5.26 in /usr/local/lib/python3.10/dist-packages (from tensorflow<2.17,>=2.16.1->tensorflow-text) (24.3.25)\n",
            "Requirement already satisfied: gast!=0.5.0,!=0.5.1,!=0.5.2,>=0.2.1 in /usr/local/lib/python3.10/dist-packages (from tensorflow<2.17,>=2.16.1->tensorflow-text) (0.5.4)\n",
            "Requirement already satisfied: google-pasta>=0.1.1 in /usr/local/lib/python3.10/dist-packages (from tensorflow<2.17,>=2.16.1->tensorflow-text) (0.2.0)\n",
            "Collecting h5py>=3.10.0 (from tensorflow<2.17,>=2.16.1->tensorflow-text)\n",
            "  Downloading h5py-3.11.0-cp310-cp310-manylinux_2_17_x86_64.manylinux2014_x86_64.whl (5.3 MB)\n",
            "\u001b[2K     \u001b[90m━━━━━━━━━━━━━━━━━━━━━━━━━━━━━━━━━━━━━━━━\u001b[0m \u001b[32m5.3/5.3 MB\u001b[0m \u001b[31m53.5 MB/s\u001b[0m eta \u001b[36m0:00:00\u001b[0m\n",
            "\u001b[?25hRequirement already satisfied: libclang>=13.0.0 in /usr/local/lib/python3.10/dist-packages (from tensorflow<2.17,>=2.16.1->tensorflow-text) (18.1.1)\n",
            "Collecting ml-dtypes~=0.3.1 (from tensorflow<2.17,>=2.16.1->tensorflow-text)\n",
            "  Downloading ml_dtypes-0.3.2-cp310-cp310-manylinux_2_17_x86_64.manylinux2014_x86_64.whl (2.2 MB)\n",
            "\u001b[2K     \u001b[90m━━━━━━━━━━━━━━━━━━━━━━━━━━━━━━━━━━━━━━━━\u001b[0m \u001b[32m2.2/2.2 MB\u001b[0m \u001b[31m56.0 MB/s\u001b[0m eta \u001b[36m0:00:00\u001b[0m\n",
            "\u001b[?25hRequirement already satisfied: opt-einsum>=2.3.2 in /usr/local/lib/python3.10/dist-packages (from tensorflow<2.17,>=2.16.1->tensorflow-text) (3.3.0)\n",
            "Requirement already satisfied: packaging in /usr/local/lib/python3.10/dist-packages (from tensorflow<2.17,>=2.16.1->tensorflow-text) (24.0)\n",
            "Requirement already satisfied: requests<3,>=2.21.0 in /usr/local/lib/python3.10/dist-packages (from tensorflow<2.17,>=2.16.1->tensorflow-text) (2.31.0)\n",
            "Requirement already satisfied: setuptools in /usr/local/lib/python3.10/dist-packages (from tensorflow<2.17,>=2.16.1->tensorflow-text) (67.7.2)\n",
            "Requirement already satisfied: six>=1.12.0 in /usr/local/lib/python3.10/dist-packages (from tensorflow<2.17,>=2.16.1->tensorflow-text) (1.16.0)\n",
            "Requirement already satisfied: termcolor>=1.1.0 in /usr/local/lib/python3.10/dist-packages (from tensorflow<2.17,>=2.16.1->tensorflow-text) (2.4.0)\n",
            "Requirement already satisfied: typing-extensions>=3.6.6 in /usr/local/lib/python3.10/dist-packages (from tensorflow<2.17,>=2.16.1->tensorflow-text) (4.11.0)\n",
            "Requirement already satisfied: wrapt>=1.11.0 in /usr/local/lib/python3.10/dist-packages (from tensorflow<2.17,>=2.16.1->tensorflow-text) (1.14.1)\n",
            "Requirement already satisfied: grpcio<2.0,>=1.24.3 in /usr/local/lib/python3.10/dist-packages (from tensorflow<2.17,>=2.16.1->tensorflow-text) (1.63.0)\n",
            "Collecting tensorboard<2.17,>=2.16 (from tensorflow<2.17,>=2.16.1->tensorflow-text)\n",
            "  Downloading tensorboard-2.16.2-py3-none-any.whl (5.5 MB)\n",
            "\u001b[2K     \u001b[90m━━━━━━━━━━━━━━━━━━━━━━━━━━━━━━━━━━━━━━━━\u001b[0m \u001b[32m5.5/5.5 MB\u001b[0m \u001b[31m65.9 MB/s\u001b[0m eta \u001b[36m0:00:00\u001b[0m\n",
            "\u001b[?25hCollecting keras>=3.0.0 (from tensorflow<2.17,>=2.16.1->tensorflow-text)\n",
            "  Downloading keras-3.3.3-py3-none-any.whl (1.1 MB)\n",
            "\u001b[2K     \u001b[90m━━━━━━━━━━━━━━━━━━━━━━━━━━━━━━━━━━━━━━━━\u001b[0m \u001b[32m1.1/1.1 MB\u001b[0m \u001b[31m55.0 MB/s\u001b[0m eta \u001b[36m0:00:00\u001b[0m\n",
            "\u001b[?25hRequirement already satisfied: tensorflow-io-gcs-filesystem>=0.23.1 in /usr/local/lib/python3.10/dist-packages (from tensorflow<2.17,>=2.16.1->tensorflow-text) (0.37.0)\n",
            "INFO: pip is looking at multiple versions of tf-keras to determine which version is compatible with other requirements. This could take a while.\n",
            "Collecting tf-keras>=2.14.1 (from tensorflow-hub)\n",
            "  Downloading tf_keras-2.16.0-py3-none-any.whl (1.7 MB)\n",
            "\u001b[2K     \u001b[90m━━━━━━━━━━━━━━━━━━━━━━━━━━━━━━━━━━━━━━━━\u001b[0m \u001b[32m1.7/1.7 MB\u001b[0m \u001b[31m75.6 MB/s\u001b[0m eta \u001b[36m0:00:00\u001b[0m\n",
            "\u001b[?25hRequirement already satisfied: wheel<1.0,>=0.23.0 in /usr/local/lib/python3.10/dist-packages (from astunparse>=1.6.0->tensorflow<2.17,>=2.16.1->tensorflow-text) (0.43.0)\n",
            "Requirement already satisfied: rich in /usr/local/lib/python3.10/dist-packages (from keras>=3.0.0->tensorflow<2.17,>=2.16.1->tensorflow-text) (13.7.1)\n",
            "Collecting namex (from keras>=3.0.0->tensorflow<2.17,>=2.16.1->tensorflow-text)\n",
            "  Downloading namex-0.0.8-py3-none-any.whl (5.8 kB)\n",
            "Collecting optree (from keras>=3.0.0->tensorflow<2.17,>=2.16.1->tensorflow-text)\n",
            "  Downloading optree-0.11.0-cp310-cp310-manylinux_2_17_x86_64.manylinux2014_x86_64.whl (311 kB)\n",
            "\u001b[2K     \u001b[90m━━━━━━━━━━━━━━━━━━━━━━━━━━━━━━━━━━━━━━━━\u001b[0m \u001b[32m311.2/311.2 kB\u001b[0m \u001b[31m16.8 MB/s\u001b[0m eta \u001b[36m0:00:00\u001b[0m\n",
            "\u001b[?25hRequirement already satisfied: charset-normalizer<4,>=2 in /usr/local/lib/python3.10/dist-packages (from requests<3,>=2.21.0->tensorflow<2.17,>=2.16.1->tensorflow-text) (3.3.2)\n",
            "Requirement already satisfied: idna<4,>=2.5 in /usr/local/lib/python3.10/dist-packages (from requests<3,>=2.21.0->tensorflow<2.17,>=2.16.1->tensorflow-text) (3.7)\n",
            "Requirement already satisfied: urllib3<3,>=1.21.1 in /usr/local/lib/python3.10/dist-packages (from requests<3,>=2.21.0->tensorflow<2.17,>=2.16.1->tensorflow-text) (2.0.7)\n",
            "Requirement already satisfied: certifi>=2017.4.17 in /usr/local/lib/python3.10/dist-packages (from requests<3,>=2.21.0->tensorflow<2.17,>=2.16.1->tensorflow-text) (2024.2.2)\n",
            "Requirement already satisfied: markdown>=2.6.8 in /usr/local/lib/python3.10/dist-packages (from tensorboard<2.17,>=2.16->tensorflow<2.17,>=2.16.1->tensorflow-text) (3.6)\n",
            "Requirement already satisfied: tensorboard-data-server<0.8.0,>=0.7.0 in /usr/local/lib/python3.10/dist-packages (from tensorboard<2.17,>=2.16->tensorflow<2.17,>=2.16.1->tensorflow-text) (0.7.2)\n",
            "Requirement already satisfied: werkzeug>=1.0.1 in /usr/local/lib/python3.10/dist-packages (from tensorboard<2.17,>=2.16->tensorflow<2.17,>=2.16.1->tensorflow-text) (3.0.3)\n",
            "Requirement already satisfied: MarkupSafe>=2.1.1 in /usr/local/lib/python3.10/dist-packages (from werkzeug>=1.0.1->tensorboard<2.17,>=2.16->tensorflow<2.17,>=2.16.1->tensorflow-text) (2.1.5)\n",
            "Requirement already satisfied: markdown-it-py>=2.2.0 in /usr/local/lib/python3.10/dist-packages (from rich->keras>=3.0.0->tensorflow<2.17,>=2.16.1->tensorflow-text) (3.0.0)\n",
            "Requirement already satisfied: pygments<3.0.0,>=2.13.0 in /usr/local/lib/python3.10/dist-packages (from rich->keras>=3.0.0->tensorflow<2.17,>=2.16.1->tensorflow-text) (2.16.1)\n",
            "Requirement already satisfied: mdurl~=0.1 in /usr/local/lib/python3.10/dist-packages (from markdown-it-py>=2.2.0->rich->keras>=3.0.0->tensorflow<2.17,>=2.16.1->tensorflow-text) (0.1.2)\n",
            "Installing collected packages: namex, optree, ml-dtypes, h5py, tensorboard, keras, tensorflow, tf-keras, tensorflow-text\n",
            "  Attempting uninstall: ml-dtypes\n",
            "    Found existing installation: ml-dtypes 0.2.0\n",
            "    Uninstalling ml-dtypes-0.2.0:\n",
            "      Successfully uninstalled ml-dtypes-0.2.0\n",
            "  Attempting uninstall: h5py\n",
            "    Found existing installation: h5py 3.9.0\n",
            "    Uninstalling h5py-3.9.0:\n",
            "      Successfully uninstalled h5py-3.9.0\n",
            "  Attempting uninstall: tensorboard\n",
            "    Found existing installation: tensorboard 2.15.2\n",
            "    Uninstalling tensorboard-2.15.2:\n",
            "      Successfully uninstalled tensorboard-2.15.2\n",
            "  Attempting uninstall: keras\n",
            "    Found existing installation: keras 2.15.0\n",
            "    Uninstalling keras-2.15.0:\n",
            "      Successfully uninstalled keras-2.15.0\n",
            "  Attempting uninstall: tensorflow\n",
            "    Found existing installation: tensorflow 2.15.0\n",
            "    Uninstalling tensorflow-2.15.0:\n",
            "      Successfully uninstalled tensorflow-2.15.0\n",
            "  Attempting uninstall: tf-keras\n",
            "    Found existing installation: tf_keras 2.15.1\n",
            "    Uninstalling tf_keras-2.15.1:\n",
            "      Successfully uninstalled tf_keras-2.15.1\n",
            "Successfully installed h5py-3.11.0 keras-3.3.3 ml-dtypes-0.3.2 namex-0.0.8 optree-0.11.0 tensorboard-2.16.2 tensorflow-2.16.1 tensorflow-text-2.16.1 tf-keras-2.16.0\n"
          ]
        },
        {
          "output_type": "display_data",
          "data": {
            "application/vnd.colab-display-data+json": {
              "pip_warning": {
                "packages": [
                  "h5py",
                  "ml_dtypes",
                  "tensorboard"
                ]
              },
              "id": "da6b471985e94e5b8935bdff9e845e02"
            }
          },
          "metadata": {}
        }
      ]
    },
    {
      "cell_type": "code",
      "source": [
        "import tensorflow as tf\n",
        "print(tf.__version__)\n"
      ],
      "metadata": {
        "colab": {
          "base_uri": "https://localhost:8080/"
        },
        "id": "xyoSCmBsG-Ey",
        "outputId": "d30e90d9-eb0c-49fc-df08-5cdbe2a13965"
      },
      "execution_count": 1,
      "outputs": [
        {
          "output_type": "stream",
          "name": "stdout",
          "text": [
            "2.16.1\n"
          ]
        }
      ]
    },
    {
      "cell_type": "code",
      "execution_count": 2,
      "metadata": {
        "id": "6H9cfQNoFinP"
      },
      "outputs": [],
      "source": [
        "import tensorflow_hub as hub\n",
        "import tensorflow_text as text\n"
      ]
    },
    {
      "cell_type": "code",
      "source": [
        "preprocess_url = \"https://tfhub.dev/tensorflow/bert_en_uncased_preprocess/3\"\n",
        "encoder_url = \"https://tfhub.dev/tensorflow/bert_en_uncased_L-12_H-768_A-12/4\""
      ],
      "metadata": {
        "id": "0NjZgdRbHKh5"
      },
      "execution_count": 4,
      "outputs": []
    },
    {
      "cell_type": "code",
      "source": [
        "bert_preprocess_model = hub.KerasLayer(preprocess_url)"
      ],
      "metadata": {
        "id": "DX7udMGMHZrW"
      },
      "execution_count": 5,
      "outputs": []
    },
    {
      "cell_type": "code",
      "source": [
        "text_test = [\"i love the latest spiderman movie\", \"what is your favorite movie\"]\n",
        "text_preprocessed = bert_preprocess_model(text_test)\n"
      ],
      "metadata": {
        "id": "9cfuYPSuHh6m"
      },
      "execution_count": 6,
      "outputs": []
    },
    {
      "cell_type": "code",
      "source": [
        "text_preprocessed.keys()"
      ],
      "metadata": {
        "colab": {
          "base_uri": "https://localhost:8080/"
        },
        "id": "dWSNNPTTIV2j",
        "outputId": "ae70fe98-338f-4f6a-c11e-ffeb0ef16063"
      },
      "execution_count": 7,
      "outputs": [
        {
          "output_type": "execute_result",
          "data": {
            "text/plain": [
              "dict_keys(['input_mask', 'input_type_ids', 'input_word_ids'])"
            ]
          },
          "metadata": {},
          "execution_count": 7
        }
      ]
    },
    {
      "cell_type": "code",
      "source": [
        "text_preprocessed"
      ],
      "metadata": {
        "colab": {
          "base_uri": "https://localhost:8080/"
        },
        "id": "8NEDcN87I59u",
        "outputId": "f7547725-7b32-48a8-a77f-46c03eab3c83"
      },
      "execution_count": 8,
      "outputs": [
        {
          "output_type": "execute_result",
          "data": {
            "text/plain": [
              "{'input_mask': <tf.Tensor: shape=(2, 128), dtype=int32, numpy=\n",
              " array([[1, 1, 1, 1, 1, 1, 1, 1, 1, 0, 0, 0, 0, 0, 0, 0, 0, 0, 0, 0, 0, 0,\n",
              "         0, 0, 0, 0, 0, 0, 0, 0, 0, 0, 0, 0, 0, 0, 0, 0, 0, 0, 0, 0, 0, 0,\n",
              "         0, 0, 0, 0, 0, 0, 0, 0, 0, 0, 0, 0, 0, 0, 0, 0, 0, 0, 0, 0, 0, 0,\n",
              "         0, 0, 0, 0, 0, 0, 0, 0, 0, 0, 0, 0, 0, 0, 0, 0, 0, 0, 0, 0, 0, 0,\n",
              "         0, 0, 0, 0, 0, 0, 0, 0, 0, 0, 0, 0, 0, 0, 0, 0, 0, 0, 0, 0, 0, 0,\n",
              "         0, 0, 0, 0, 0, 0, 0, 0, 0, 0, 0, 0, 0, 0, 0, 0, 0, 0],\n",
              "        [1, 1, 1, 1, 1, 1, 1, 0, 0, 0, 0, 0, 0, 0, 0, 0, 0, 0, 0, 0, 0, 0,\n",
              "         0, 0, 0, 0, 0, 0, 0, 0, 0, 0, 0, 0, 0, 0, 0, 0, 0, 0, 0, 0, 0, 0,\n",
              "         0, 0, 0, 0, 0, 0, 0, 0, 0, 0, 0, 0, 0, 0, 0, 0, 0, 0, 0, 0, 0, 0,\n",
              "         0, 0, 0, 0, 0, 0, 0, 0, 0, 0, 0, 0, 0, 0, 0, 0, 0, 0, 0, 0, 0, 0,\n",
              "         0, 0, 0, 0, 0, 0, 0, 0, 0, 0, 0, 0, 0, 0, 0, 0, 0, 0, 0, 0, 0, 0,\n",
              "         0, 0, 0, 0, 0, 0, 0, 0, 0, 0, 0, 0, 0, 0, 0, 0, 0, 0]],\n",
              "       dtype=int32)>,\n",
              " 'input_type_ids': <tf.Tensor: shape=(2, 128), dtype=int32, numpy=\n",
              " array([[0, 0, 0, 0, 0, 0, 0, 0, 0, 0, 0, 0, 0, 0, 0, 0, 0, 0, 0, 0, 0, 0,\n",
              "         0, 0, 0, 0, 0, 0, 0, 0, 0, 0, 0, 0, 0, 0, 0, 0, 0, 0, 0, 0, 0, 0,\n",
              "         0, 0, 0, 0, 0, 0, 0, 0, 0, 0, 0, 0, 0, 0, 0, 0, 0, 0, 0, 0, 0, 0,\n",
              "         0, 0, 0, 0, 0, 0, 0, 0, 0, 0, 0, 0, 0, 0, 0, 0, 0, 0, 0, 0, 0, 0,\n",
              "         0, 0, 0, 0, 0, 0, 0, 0, 0, 0, 0, 0, 0, 0, 0, 0, 0, 0, 0, 0, 0, 0,\n",
              "         0, 0, 0, 0, 0, 0, 0, 0, 0, 0, 0, 0, 0, 0, 0, 0, 0, 0],\n",
              "        [0, 0, 0, 0, 0, 0, 0, 0, 0, 0, 0, 0, 0, 0, 0, 0, 0, 0, 0, 0, 0, 0,\n",
              "         0, 0, 0, 0, 0, 0, 0, 0, 0, 0, 0, 0, 0, 0, 0, 0, 0, 0, 0, 0, 0, 0,\n",
              "         0, 0, 0, 0, 0, 0, 0, 0, 0, 0, 0, 0, 0, 0, 0, 0, 0, 0, 0, 0, 0, 0,\n",
              "         0, 0, 0, 0, 0, 0, 0, 0, 0, 0, 0, 0, 0, 0, 0, 0, 0, 0, 0, 0, 0, 0,\n",
              "         0, 0, 0, 0, 0, 0, 0, 0, 0, 0, 0, 0, 0, 0, 0, 0, 0, 0, 0, 0, 0, 0,\n",
              "         0, 0, 0, 0, 0, 0, 0, 0, 0, 0, 0, 0, 0, 0, 0, 0, 0, 0]],\n",
              "       dtype=int32)>,\n",
              " 'input_word_ids': <tf.Tensor: shape=(2, 128), dtype=int32, numpy=\n",
              " array([[ 101, 1045, 2293, 1996, 6745, 6804, 2386, 3185,  102,    0,    0,\n",
              "            0,    0,    0,    0,    0,    0,    0,    0,    0,    0,    0,\n",
              "            0,    0,    0,    0,    0,    0,    0,    0,    0,    0,    0,\n",
              "            0,    0,    0,    0,    0,    0,    0,    0,    0,    0,    0,\n",
              "            0,    0,    0,    0,    0,    0,    0,    0,    0,    0,    0,\n",
              "            0,    0,    0,    0,    0,    0,    0,    0,    0,    0,    0,\n",
              "            0,    0,    0,    0,    0,    0,    0,    0,    0,    0,    0,\n",
              "            0,    0,    0,    0,    0,    0,    0,    0,    0,    0,    0,\n",
              "            0,    0,    0,    0,    0,    0,    0,    0,    0,    0,    0,\n",
              "            0,    0,    0,    0,    0,    0,    0,    0,    0,    0,    0,\n",
              "            0,    0,    0,    0,    0,    0,    0,    0,    0,    0,    0,\n",
              "            0,    0,    0,    0,    0,    0,    0],\n",
              "        [ 101, 2054, 2003, 2115, 5440, 3185,  102,    0,    0,    0,    0,\n",
              "            0,    0,    0,    0,    0,    0,    0,    0,    0,    0,    0,\n",
              "            0,    0,    0,    0,    0,    0,    0,    0,    0,    0,    0,\n",
              "            0,    0,    0,    0,    0,    0,    0,    0,    0,    0,    0,\n",
              "            0,    0,    0,    0,    0,    0,    0,    0,    0,    0,    0,\n",
              "            0,    0,    0,    0,    0,    0,    0,    0,    0,    0,    0,\n",
              "            0,    0,    0,    0,    0,    0,    0,    0,    0,    0,    0,\n",
              "            0,    0,    0,    0,    0,    0,    0,    0,    0,    0,    0,\n",
              "            0,    0,    0,    0,    0,    0,    0,    0,    0,    0,    0,\n",
              "            0,    0,    0,    0,    0,    0,    0,    0,    0,    0,    0,\n",
              "            0,    0,    0,    0,    0,    0,    0,    0,    0,    0,    0,\n",
              "            0,    0,    0,    0,    0,    0,    0]], dtype=int32)>}"
            ]
          },
          "metadata": {},
          "execution_count": 8
        }
      ]
    },
    {
      "cell_type": "code",
      "source": [
        "bert_model = hub.KerasLayer(encoder_url)\n",
        "bert_results = bert_model(text_preprocessed)"
      ],
      "metadata": {
        "id": "gFUW5MM4Ab5Y"
      },
      "execution_count": 10,
      "outputs": []
    },
    {
      "cell_type": "code",
      "source": [
        "bert_results.keys()"
      ],
      "metadata": {
        "colab": {
          "base_uri": "https://localhost:8080/"
        },
        "id": "-t0pfdMrAwRc",
        "outputId": "2a3131dd-2cf2-434b-d275-c0329940e7a8"
      },
      "execution_count": 11,
      "outputs": [
        {
          "output_type": "execute_result",
          "data": {
            "text/plain": [
              "dict_keys(['encoder_outputs', 'sequence_output', 'pooled_output', 'default'])"
            ]
          },
          "metadata": {},
          "execution_count": 11
        }
      ]
    },
    {
      "cell_type": "code",
      "source": [
        "bert_results['pooled_output']"
      ],
      "metadata": {
        "colab": {
          "base_uri": "https://localhost:8080/"
        },
        "id": "tWRAObMsBZ0d",
        "outputId": "cdc362f5-515b-4676-c740-d8109d32ece2"
      },
      "execution_count": 15,
      "outputs": [
        {
          "output_type": "execute_result",
          "data": {
            "text/plain": [
              "<tf.Tensor: shape=(2, 768), dtype=float32, numpy=\n",
              "array([[-0.90277314, -0.37554243, -0.14968203, ...,  0.11457318,\n",
              "        -0.66005546,  0.91889334],\n",
              "       [-0.92821443, -0.47715712, -0.7353333 , ..., -0.39964285,\n",
              "        -0.708998  ,  0.91341436]], dtype=float32)>"
            ]
          },
          "metadata": {},
          "execution_count": 15
        }
      ]
    },
    {
      "cell_type": "code",
      "source": [
        "bert_results['encoder_outputs']"
      ],
      "metadata": {
        "colab": {
          "base_uri": "https://localhost:8080/"
        },
        "id": "Wl049Nb2EAwe",
        "outputId": "09ea28c2-c14f-4afa-89ff-428b52d5e98c"
      },
      "execution_count": 16,
      "outputs": [
        {
          "output_type": "execute_result",
          "data": {
            "text/plain": [
              "[<tf.Tensor: shape=(2, 128, 768), dtype=float32, numpy=\n",
              " array([[[ 0.2258682 ,  0.07725343, -0.11251989, ...,  0.08715971,\n",
              "           0.10543281,  0.13109334],\n",
              "         [ 0.54382086,  1.0349476 , -0.14937516, ...,  0.6134765 ,\n",
              "           0.91319966,  0.12944147],\n",
              "         [ 1.296367  ,  0.65287703,  0.22362235, ...,  0.771937  ,\n",
              "           0.9406263 ,  0.00753907],\n",
              "         ...,\n",
              "         [-0.03153252, -0.30320242,  0.7451606 , ...,  0.44490188,\n",
              "          -0.11891496,  0.07690985],\n",
              "         [-0.09871915, -0.31374663,  0.6211531 , ...,  0.4744538 ,\n",
              "          -0.0225739 , -0.00877085],\n",
              "         [ 0.04640871, -0.25964016,  0.6440457 , ...,  0.7530192 ,\n",
              "          -0.31335986, -0.07357045]],\n",
              " \n",
              "        [[ 0.16660309, -0.00845191, -0.0625963 , ...,  0.00911165,\n",
              "           0.05832226,  0.02117646],\n",
              "         [ 0.86454564,  0.64578915, -1.49139   , ...,  0.79581565,\n",
              "           0.13600262, -1.6662668 ],\n",
              "         [-0.53678364,  0.00357291, -0.40378994, ..., -0.08804809,\n",
              "           0.54261714,  0.38469923],\n",
              "         ...,\n",
              "         [-0.08436389, -0.26025158,  0.5637549 , ...,  0.42956638,\n",
              "          -0.17097828,  0.13918494],\n",
              "         [-0.15376219, -0.28485212,  0.42981544, ...,  0.46042934,\n",
              "          -0.08416016,  0.02227087],\n",
              "         [-0.04693341, -0.21796799,  0.47093177, ...,  0.7586138 ,\n",
              "          -0.34591883, -0.04138198]]], dtype=float32)>,\n",
              " <tf.Tensor: shape=(2, 128, 768), dtype=float32, numpy=\n",
              " array([[[ 0.07733145, -0.17922741, -0.16154578, ...,  0.14068154,\n",
              "           0.10691608,  0.04004955],\n",
              "         [ 0.5246075 ,  0.81842   ,  0.23187388, ...,  0.4931417 ,\n",
              "           0.39832333,  0.0898215 ],\n",
              "         [ 1.7391325 ,  0.65752244,  0.5236004 , ...,  1.2013147 ,\n",
              "           0.62823397, -0.21808621],\n",
              "         ...,\n",
              "         [-0.14433795, -0.1938951 ,  0.6693207 , ...,  0.87196356,\n",
              "          -0.39862734, -0.14300282],\n",
              "         [-0.21848714, -0.1276015 ,  0.60072124, ...,  0.8917507 ,\n",
              "          -0.3383749 , -0.22674952],\n",
              "         [-0.1090387 , -0.11581144,  0.57135165, ...,  1.0472662 ,\n",
              "          -0.47675472, -0.2089023 ]],\n",
              " \n",
              "        [[ 0.07905236, -0.20796561, -0.22148079, ...,  0.15670459,\n",
              "           0.12319768,  0.05740381],\n",
              "         [ 0.7013584 ,  0.540314  , -0.83364826, ...,  1.1941135 ,\n",
              "           0.23507863, -1.9053932 ],\n",
              "         [-0.8462445 ,  0.46861032,  0.28359568, ..., -0.06936394,\n",
              "           0.04122195,  0.17893595],\n",
              "         ...,\n",
              "         [-0.13585255, -0.33622256,  0.55129206, ...,  1.1760982 ,\n",
              "          -0.4336807 , -0.11991371],\n",
              "         [-0.29510507, -0.18417007,  0.5136185 , ...,  1.1307967 ,\n",
              "          -0.37172416, -0.22861616],\n",
              "         [-0.18269515, -0.29180336,  0.44475108, ...,  1.3853148 ,\n",
              "          -0.5312067 , -0.21346909]]], dtype=float32)>,\n",
              " <tf.Tensor: shape=(2, 128, 768), dtype=float32, numpy=\n",
              " array([[[ 0.05959295, -0.23992652, -0.04369558, ...,  0.20959811,\n",
              "           0.07762446,  0.14885251],\n",
              "         [ 0.7124247 ,  0.40307856,  0.5290405 , ...,  0.51210487,\n",
              "          -0.0053834 ,  0.12734117],\n",
              "         [ 2.2506    ,  0.46448407,  1.0116918 , ...,  0.43446314,\n",
              "          -0.01072751, -0.17527708],\n",
              "         ...,\n",
              "         [-0.17874458, -0.06842412,  0.8220104 , ...,  0.90733033,\n",
              "          -0.18698572, -0.33979517],\n",
              "         [-0.29121542, -0.03906612,  0.74850875, ...,  0.940337  ,\n",
              "          -0.1441825 , -0.4595838 ],\n",
              "         [-0.17939654, -0.11656447,  0.7719224 , ...,  1.1253338 ,\n",
              "          -0.325719  , -0.40511668]],\n",
              " \n",
              "        [[ 0.12635806, -0.2985051 , -0.1357209 , ...,  0.19117926,\n",
              "           0.08897012,  0.19316205],\n",
              "         [ 0.3652284 ,  0.09457275, -0.2853639 , ...,  1.2968915 ,\n",
              "           0.08889553, -1.7397583 ],\n",
              "         [-0.9194012 ,  0.0367298 ,  0.28915754, ...,  0.07833265,\n",
              "           0.12156816,  0.17819399],\n",
              "         ...,\n",
              "         [-0.04846598, -0.29145038,  0.73706   , ...,  1.1359978 ,\n",
              "          -0.010145  , -0.34273684],\n",
              "         [-0.3079178 , -0.12083279,  0.6627545 , ...,  1.153973  ,\n",
              "          -0.03526785, -0.45397696],\n",
              "         [-0.20711076, -0.24556668,  0.6432815 , ...,  1.3532641 ,\n",
              "          -0.25627568, -0.40655038]]], dtype=float32)>,\n",
              " <tf.Tensor: shape=(2, 128, 768), dtype=float32, numpy=\n",
              " array([[[ 0.10322971, -0.3594659 , -0.33839664, ...,  0.22830878,\n",
              "           0.02988212,  0.5404454 ],\n",
              "         [ 0.84512645,  0.04463478,  0.55664325, ...,  0.54559124,\n",
              "          -0.19599502, -0.11548806],\n",
              "         [ 2.1314993 ,  0.47092226,  0.7245079 , ...,  0.3430538 ,\n",
              "          -0.56303656,  0.38942492],\n",
              "         ...,\n",
              "         [-0.40872446, -0.6478658 ,  1.0235031 , ...,  0.9341793 ,\n",
              "          -0.64511067, -0.14728431],\n",
              "         [-0.5298943 , -0.6233168 ,  0.8907555 , ...,  0.9095511 ,\n",
              "          -0.6259455 , -0.29922646],\n",
              "         [-0.4117318 , -0.703405  ,  1.0212089 , ...,  1.0660604 ,\n",
              "          -0.70977753, -0.18313424]],\n",
              " \n",
              "        [[ 0.34290376, -0.53667426, -0.4380385 , ...,  0.28721383,\n",
              "           0.02629041,  0.6380517 ],\n",
              "         [ 0.21629253, -0.5172152 ,  0.34310842, ...,  1.046339  ,\n",
              "          -0.04038787, -1.6687571 ],\n",
              "         [-1.1772175 , -0.394059  ,  0.88354725, ...,  0.05821183,\n",
              "          -0.22420558,  0.5881736 ],\n",
              "         ...,\n",
              "         [-0.22360563, -0.7084845 ,  0.9537094 , ...,  0.98688674,\n",
              "          -0.39615816, -0.25228897],\n",
              "         [-0.5304394 , -0.5440923 ,  0.83819026, ...,  1.0429848 ,\n",
              "          -0.3816732 , -0.39763093],\n",
              "         [-0.3934911 , -0.7329465 ,  0.96039575, ...,  1.2335836 ,\n",
              "          -0.5005778 , -0.2577855 ]]], dtype=float32)>,\n",
              " <tf.Tensor: shape=(2, 128, 768), dtype=float32, numpy=\n",
              " array([[[-0.14213838, -0.29524562, -0.38152578, ..., -0.07294269,\n",
              "           0.04610886,  0.7345142 ],\n",
              "         [ 0.6514855 , -0.54416007,  0.4584261 , ...,  0.46805036,\n",
              "          -0.06976568, -0.04894976],\n",
              "         [ 2.0682914 ,  0.6809813 ,  0.08674789, ...,  0.39900088,\n",
              "          -0.51275235,  0.12565893],\n",
              "         ...,\n",
              "         [-0.11605285, -0.5497109 ,  1.0887647 , ...,  0.7216253 ,\n",
              "          -0.44336423, -0.39227405],\n",
              "         [-0.25686002, -0.5185282 ,  0.95582813, ...,  0.76402634,\n",
              "          -0.5082861 , -0.52754825],\n",
              "         [-0.16117108, -0.63657796,  1.0664427 , ...,  0.88757074,\n",
              "          -0.5540793 , -0.40243167]],\n",
              " \n",
              "        [[ 0.04571903, -0.52333164, -0.4322587 , ..., -0.09084969,\n",
              "          -0.04480147,  0.49743098],\n",
              "         [ 0.09656435, -0.55691624,  0.04655474, ...,  0.93416876,\n",
              "          -0.6074387 , -1.8184469 ],\n",
              "         [-1.4691002 , -0.5902501 ,  0.9543171 , ...,  0.27971897,\n",
              "           0.21290657,  0.4800539 ],\n",
              "         ...,\n",
              "         [-0.04817807, -0.40307438,  1.0081731 , ...,  0.24973416,\n",
              "          -0.11489376, -0.32714042],\n",
              "         [-0.38084698, -0.13690731,  1.0107918 , ...,  0.34033763,\n",
              "          -0.25678042, -0.42410907],\n",
              "         [-0.2567487 , -0.44302356,  1.134568  , ...,  0.5899109 ,\n",
              "          -0.3045365 , -0.34301606]]], dtype=float32)>,\n",
              " <tf.Tensor: shape=(2, 128, 768), dtype=float32, numpy=\n",
              " array([[[-0.07442588, -0.56560296, -0.5079578 , ..., -0.14553246,\n",
              "           0.29062647,  0.66536826],\n",
              "         [ 0.6886157 , -0.28570518, -0.16830188, ...,  0.18205354,\n",
              "           0.36990464, -0.49787366],\n",
              "         [ 1.9130282 ,  0.4325318 ,  0.03712551, ...,  0.2420332 ,\n",
              "          -0.16900365,  0.35680392],\n",
              "         ...,\n",
              "         [-0.3712321 , -0.45361975,  1.3690175 , ...,  0.97237253,\n",
              "          -0.6353472 , -0.43260336],\n",
              "         [-0.5030729 , -0.44727075,  1.2063665 , ...,  0.9344704 ,\n",
              "          -0.6245299 , -0.55605036],\n",
              "         [-0.39805192, -0.5948425 ,  1.4025867 , ...,  1.0422204 ,\n",
              "          -0.6535872 , -0.43076104]],\n",
              " \n",
              "        [[ 0.08095082, -0.8552016 , -0.48446977, ..., -0.13895863,\n",
              "           0.09162609,  0.63137746],\n",
              "         [ 0.19559169, -0.6702253 ,  0.07421736, ...,  0.47575253,\n",
              "          -0.31566158, -1.8557612 ],\n",
              "         [-1.129192  , -0.93791217,  0.75394595, ..., -0.7205375 ,\n",
              "           0.8097963 ,  0.16083288],\n",
              "         ...,\n",
              "         [-0.11915703, -0.2947836 ,  1.388944  , ...,  0.43015334,\n",
              "          -0.2744817 , -0.3506481 ],\n",
              "         [-0.51184726, -0.08360533,  1.3711753 , ...,  0.5110281 ,\n",
              "          -0.44975603, -0.4066235 ],\n",
              "         [-0.38738352, -0.3962921 ,  1.5324553 , ...,  0.75416386,\n",
              "          -0.4394362 , -0.3257859 ]]], dtype=float32)>,\n",
              " <tf.Tensor: shape=(2, 128, 768), dtype=float32, numpy=\n",
              " array([[[ 1.46868527e-01, -8.31538260e-01, -5.35964131e-01, ...,\n",
              "          -9.56317410e-04,  6.63465738e-01,  8.04422140e-01],\n",
              "         [ 6.09159768e-01, -5.10081768e-01, -4.09560442e-01, ...,\n",
              "           5.62360704e-01,  6.80333734e-01, -3.06514561e-01],\n",
              "         [ 1.37862837e+00,  4.39189076e-01,  1.65491268e-01, ...,\n",
              "           1.10532129e+00,  1.22077547e-01,  1.55372903e-01],\n",
              "         ...,\n",
              "         [-1.01349264e-01, -5.39920688e-01,  1.34625256e+00, ...,\n",
              "           1.12954473e+00, -5.01446366e-01, -2.23430589e-01],\n",
              "         [-1.75148040e-01, -5.43491066e-01,  1.24848902e+00, ...,\n",
              "           1.00817239e+00, -4.87059563e-01, -3.96049947e-01],\n",
              "         [-1.93709612e-01, -6.90000296e-01,  1.44318759e+00, ...,\n",
              "           1.19806409e+00, -5.33751309e-01, -2.47490406e-01]],\n",
              " \n",
              "        [[ 2.61454761e-01, -8.28432918e-01, -8.12607348e-01, ...,\n",
              "          -2.93425560e-01,  5.07477403e-01,  9.49830651e-01],\n",
              "         [-5.13554998e-02, -7.46543646e-01, -4.60853815e-01, ...,\n",
              "           4.12503988e-01, -3.47553670e-01, -1.92753255e+00],\n",
              "         [-1.48567319e+00, -1.23950696e+00, -7.52950907e-02, ...,\n",
              "          -8.41764927e-01,  7.24684060e-01, -3.69615182e-02],\n",
              "         ...,\n",
              "         [ 1.66768014e-01, -2.58728176e-01,  1.42078412e+00, ...,\n",
              "           8.16945612e-01, -8.67235735e-02, -1.54362798e-01],\n",
              "         [-2.02182010e-01, -1.69680819e-01,  1.33696127e+00, ...,\n",
              "           7.33213842e-01, -2.33473942e-01, -2.19336182e-01],\n",
              "         [-2.19793558e-01, -4.53009188e-01,  1.67305303e+00, ...,\n",
              "           8.78852248e-01, -1.98742807e-01, -2.33057737e-01]]],\n",
              "       dtype=float32)>,\n",
              " <tf.Tensor: shape=(2, 128, 768), dtype=float32, numpy=\n",
              " array([[[ 6.4321652e-02, -4.2756188e-01, -7.1602899e-01, ...,\n",
              "          -5.0545210e-01,  6.9680405e-01,  6.8536234e-01],\n",
              "         [ 3.9004245e-01, -3.0083966e-01, -6.8801647e-01, ...,\n",
              "           3.5702804e-01,  8.3196783e-01,  1.2535872e-01],\n",
              "         [ 1.1878051e+00,  5.0941521e-01,  4.6140695e-01, ...,\n",
              "           1.4644012e-01,  3.5655296e-01,  1.7941403e-01],\n",
              "         ...,\n",
              "         [-1.2449501e-01, -3.2585520e-01,  1.2496363e+00, ...,\n",
              "           8.5681510e-01, -6.4169508e-01, -3.2986417e-01],\n",
              "         [-2.6170158e-01, -3.6087254e-01,  1.2449440e+00, ...,\n",
              "           6.7885190e-01, -6.1552554e-01, -5.2231085e-01],\n",
              "         [-2.5090095e-01, -4.2774820e-01,  1.3586695e+00, ...,\n",
              "           9.5935303e-01, -7.5331640e-01, -3.8911238e-01]],\n",
              " \n",
              "        [[-6.3053786e-04, -5.8726364e-01, -1.0162506e+00, ...,\n",
              "          -7.4479091e-01,  5.2759904e-01,  7.2979879e-01],\n",
              "         [ 9.1968298e-02, -6.7681724e-01, -7.5122058e-01, ...,\n",
              "          -4.9849015e-02, -6.0505193e-01, -1.3333519e+00],\n",
              "         [-5.9762931e-01, -1.4312677e+00, -3.0452681e-01, ...,\n",
              "          -1.3785852e-01, -3.8746193e-02,  2.1967225e-01],\n",
              "         ...,\n",
              "         [ 2.7569544e-01, -6.4351127e-02,  1.6224912e+00, ...,\n",
              "           6.8709993e-01, -2.9679272e-01, -9.7155944e-02],\n",
              "         [-1.5046699e-01,  3.5339780e-02,  1.4780413e+00, ...,\n",
              "           4.3684605e-01, -4.8522589e-01, -2.5945950e-01],\n",
              "         [-1.3655904e-01, -1.8672855e-01,  1.7171984e+00, ...,\n",
              "           6.9930708e-01, -4.2106441e-01, -2.8940558e-01]]], dtype=float32)>,\n",
              " <tf.Tensor: shape=(2, 128, 768), dtype=float32, numpy=\n",
              " array([[[ 0.2718642 , -0.11821467, -0.49594185, ..., -0.36640805,\n",
              "           0.40261975,  0.31920356],\n",
              "         [ 0.41132462,  0.05597163, -0.37692562, ...,  0.04676971,\n",
              "           0.6879093 , -0.02796386],\n",
              "         [ 0.9183031 ,  0.42665926,  0.3868822 , ..., -0.01099827,\n",
              "           0.4342356 , -0.08621678],\n",
              "         ...,\n",
              "         [-0.23249735, -0.03248632,  1.003351  , ...,  0.9652292 ,\n",
              "          -0.5916864 , -0.09403118],\n",
              "         [-0.29997927, -0.15327361,  1.0678308 , ...,  0.91255397,\n",
              "          -0.56515265, -0.36566192],\n",
              "         [-0.34116188, -0.07724214,  1.2559768 , ...,  1.0510669 ,\n",
              "          -0.6606899 , -0.14310846]],\n",
              " \n",
              "        [[-0.07137873, -0.09816004, -0.87758267, ..., -0.3363017 ,\n",
              "           0.09307284,  0.42265922],\n",
              "         [-0.22448814, -0.6552987 , -0.51778233, ..., -0.03665099,\n",
              "          -0.6117771 , -1.096593  ],\n",
              "         [-0.5034455 , -0.99529886,  0.03884068, ..., -0.34575158,\n",
              "          -0.26854134,  0.21494564],\n",
              "         ...,\n",
              "         [ 0.01207431,  0.18104868,  1.2636603 , ...,  0.7451952 ,\n",
              "          -0.3042911 , -0.01118428],\n",
              "         [-0.47213784,  0.13887998,  1.1180035 , ...,  0.6041035 ,\n",
              "          -0.48535824, -0.1383561 ],\n",
              "         [-0.32092676,  0.05648161,  1.5688777 , ...,  0.730964  ,\n",
              "          -0.35299456, -0.05279408]]], dtype=float32)>,\n",
              " <tf.Tensor: shape=(2, 128, 768), dtype=float32, numpy=\n",
              " array([[[ 0.03571326, -0.2948836 , -0.08325435, ..., -0.21568578,\n",
              "          -0.04089837,  0.04037394],\n",
              "         [ 0.4585071 , -0.19961207,  0.03977472, ..., -0.08954034,\n",
              "           0.9376092 , -0.31290913],\n",
              "         [ 1.0036274 ,  0.51084745,  0.69618446, ..., -0.3124982 ,\n",
              "           1.021112  , -0.3173633 ],\n",
              "         ...,\n",
              "         [-0.29494733,  0.10001657,  1.1229477 , ...,  0.7765807 ,\n",
              "          -0.57286394, -0.02990451],\n",
              "         [-0.38228193, -0.08241598,  1.1119987 , ...,  0.82536215,\n",
              "          -0.63673645, -0.23863703],\n",
              "         [-0.38068107,  0.12551956,  1.3039224 , ...,  0.82654315,\n",
              "          -0.60497046, -0.0587791 ]],\n",
              " \n",
              "        [[-0.31220564, -0.5349468 , -0.6613748 , ..., -0.62113386,\n",
              "          -0.41156024,  0.2721488 ],\n",
              "         [-0.314177  , -0.48980758, -0.46129373, ...,  0.12186724,\n",
              "          -0.31373763, -1.1749102 ],\n",
              "         [-0.63544077, -1.2185318 ,  0.08270095, ...,  0.02295421,\n",
              "          -0.48916227,  0.2517618 ],\n",
              "         ...,\n",
              "         [-0.40949455, -0.0033532 ,  1.1235721 , ...,  0.06935399,\n",
              "          -0.1462952 , -0.25102606],\n",
              "         [-0.7813705 , -0.17781259,  1.0720339 , ...,  0.05560472,\n",
              "          -0.37429374, -0.20625965],\n",
              "         [-0.61109036, -0.03633185,  1.5112826 , ...,  0.15630819,\n",
              "          -0.3644558 , -0.09851065]]], dtype=float32)>,\n",
              " <tf.Tensor: shape=(2, 128, 768), dtype=float32, numpy=\n",
              " array([[[ 0.2363898 ,  0.11781937,  0.12206505, ..., -0.3141889 ,\n",
              "           0.22137362, -0.05092036],\n",
              "         [ 0.6339973 , -0.22205718, -0.25518963, ..., -0.5644426 ,\n",
              "           0.9312165 , -0.18813288],\n",
              "         [ 1.2108426 ,  0.69414705,  0.83744264, ..., -0.24352358,\n",
              "           1.2805738 ,  0.09095261],\n",
              "         ...,\n",
              "         [ 0.06235471,  0.12798622,  1.2682549 , ...,  0.36364776,\n",
              "          -0.37328994, -0.07796728],\n",
              "         [-0.04407894, -0.0592824 ,  1.2418886 , ...,  0.43401313,\n",
              "          -0.4281253 , -0.23647133],\n",
              "         [-0.02301303,  0.13056241,  1.3536795 , ...,  0.37482515,\n",
              "          -0.3722011 ,  0.0241936 ]],\n",
              " \n",
              "        [[ 0.07591848, -0.3264205 , -0.20545517, ..., -0.9469314 ,\n",
              "          -0.25070786, -0.23707528],\n",
              "         [-0.19318247, -0.9688084 , -0.4892252 , ..., -0.44734576,\n",
              "          -0.12239958, -0.8906072 ],\n",
              "         [-0.50687236, -1.6122382 ,  0.28504583, ..., -0.50987875,\n",
              "          -0.37314925,  0.35997152],\n",
              "         ...,\n",
              "         [-0.22744009, -0.50786215,  0.92537963, ..., -0.326121  ,\n",
              "          -0.3200658 , -0.38530764],\n",
              "         [-0.52349466, -0.60587615,  1.060807  , ..., -0.3344542 ,\n",
              "          -0.46750307, -0.3373772 ],\n",
              "         [-0.44426647, -0.40127096,  1.3582413 , ..., -0.29967785,\n",
              "          -0.42876855, -0.14901455]]], dtype=float32)>,\n",
              " <tf.Tensor: shape=(2, 128, 768), dtype=float32, numpy=\n",
              " array([[[ 0.04040151,  0.05681924,  0.05715342, ..., -0.25546834,\n",
              "           0.4050217 ,  0.18116614],\n",
              "         [ 0.27201024, -0.09134519, -0.5992049 , ..., -0.14243935,\n",
              "           1.2720628 ,  0.22137302],\n",
              "         [ 1.1946096 ,  0.6203883 ,  1.1234541 , ..., -0.10743745,\n",
              "           1.1111491 , -0.26133138],\n",
              "         ...,\n",
              "         [ 0.05224951, -0.10444378,  0.6261284 , ...,  0.28412   ,\n",
              "           0.14324287,  0.00395141],\n",
              "         [ 0.01434579, -0.18263927,  0.60119563, ...,  0.3126014 ,\n",
              "           0.16518652, -0.04836521],\n",
              "         [ 0.0328945 , -0.08361226,  0.68259156, ...,  0.25167298,\n",
              "           0.10481434,  0.05221047]],\n",
              " \n",
              "        [[ 0.01178671, -0.10507086, -0.14551917, ..., -0.38857722,\n",
              "           0.21886997,  0.03853453],\n",
              "         [-0.4056287 , -0.7668421 , -0.18784192, ..., -0.16797379,\n",
              "          -0.008329  , -0.68026674],\n",
              "         [-0.27490833, -0.99401   ,  0.0540462 , ..., -0.08396666,\n",
              "           0.12541136,  0.0178975 ],\n",
              "         ...,\n",
              "         [-0.10024633, -0.22670974,  0.42966312, ..., -0.05035393,\n",
              "           0.08737845, -0.1772336 ],\n",
              "         [-0.22509575, -0.30721992,  0.4722864 , ..., -0.02100411,\n",
              "           0.10376194, -0.1780856 ],\n",
              "         [-0.16651592, -0.22815199,  0.5874418 , ..., -0.00509834,\n",
              "           0.06055557, -0.08922401]]], dtype=float32)>]"
            ]
          },
          "metadata": {},
          "execution_count": 16
        }
      ]
    }
  ]
}